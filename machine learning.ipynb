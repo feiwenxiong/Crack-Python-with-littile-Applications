{
 "cells": [
  {
   "cell_type": "code",
   "execution_count": 185,
   "metadata": {},
   "outputs": [],
   "source": [
    "import numpy as np\n",
    "import matplotlib.pyplot as plt\n",
    "from sklearn.model_selection import KFold\n",
    "from scipy.stats import multivariate_normal\n",
    "from sklearn.metrics import confusion_matrix\n",
    "from sklearn import metrics"
   ]
  },
  {
   "cell_type": "code",
   "execution_count": 158,
   "metadata": {},
   "outputs": [
    {
     "name": "stdout",
     "output_type": "stream",
     "text": [
      "[[15.  11.9 32.5 ...  1.   0.   1. ]\n",
      " [18.2 13.7 38.8 ...  1.   0.   0. ]\n",
      " [18.9 16.7 36.3 ...  0.   1.   0. ]\n",
      " ...\n",
      " [12.6 12.2 26.1 ...  0.   1.   1. ]\n",
      " [19.7 16.7 39.9 ...  0.   1.   0. ]\n",
      " [ 9.6  7.9 20.1 ...  1.   0.   1. ]]\n"
     ]
    }
   ],
   "source": [
    "data_crab = np.loadtxt(\"CrabDatasetforTrain.txt\",dtype = \"double\")\n",
    "print(data_crab)"
   ]
  },
  {
   "cell_type": "code",
   "execution_count": 169,
   "metadata": {},
   "outputs": [],
   "source": [
    "# split data\n",
    "data_c_label = data_crab[:,-1]\n",
    "# print(data_c_label)\n",
    "# print(data_c_train.shape)\n",
    "data_c_features = data_crab[:,0:-1]\n",
    "# print(data_c_features)"
   ]
  },
  {
   "cell_type": "code",
   "execution_count": 184,
   "metadata": {},
   "outputs": [
    {
     "name": "stdout",
     "output_type": "stream",
     "text": [
      "\n",
      "TRAIN:\n",
      " [ 34  35  36  37  38  39  40  41  42  43  44  45  46  47  48  49  50  51\n",
      "  52  53  54  55  56  57  58  59  60  61  62  63  64  65  66  67  68  69\n",
      "  70  71  72  73  74  75  76  77  78  79  80  81  82  83  84  85  86  87\n",
      "  88  89  90  91  92  93  94  95  96  97  98  99 100 101 102 103 104 105\n",
      " 106 107 108 109 110 111 112 113 114 115 116 117 118 119 120 121 122 123\n",
      " 124 125 126 127 128 129 130 131 132 133] \n",
      " \n",
      "TEST: [ 0  1  2  3  4  5  6  7  8  9 10 11 12 13 14 15 16 17 18 19 20 21 22 23\n",
      " 24 25 26 27 28 29 30 31 32 33]\n",
      "confusion_matrix is :\n",
      " [[15  0]\n",
      " [ 0 19]]\n",
      "\n",
      "TRAIN:\n",
      " [  0   1   2   3   4   5   6   7   8   9  10  11  12  13  14  15  16  17\n",
      "  18  19  20  21  22  23  24  25  26  27  28  29  30  31  32  33  68  69\n",
      "  70  71  72  73  74  75  76  77  78  79  80  81  82  83  84  85  86  87\n",
      "  88  89  90  91  92  93  94  95  96  97  98  99 100 101 102 103 104 105\n",
      " 106 107 108 109 110 111 112 113 114 115 116 117 118 119 120 121 122 123\n",
      " 124 125 126 127 128 129 130 131 132 133] \n",
      " \n",
      "TEST: [34 35 36 37 38 39 40 41 42 43 44 45 46 47 48 49 50 51 52 53 54 55 56 57\n",
      " 58 59 60 61 62 63 64 65 66 67]\n",
      "confusion_matrix is :\n",
      " [[20  0]\n",
      " [ 0 14]]\n",
      "\n",
      "TRAIN:\n",
      " [  0   1   2   3   4   5   6   7   8   9  10  11  12  13  14  15  16  17\n",
      "  18  19  20  21  22  23  24  25  26  27  28  29  30  31  32  33  34  35\n",
      "  36  37  38  39  40  41  42  43  44  45  46  47  48  49  50  51  52  53\n",
      "  54  55  56  57  58  59  60  61  62  63  64  65  66  67 101 102 103 104\n",
      " 105 106 107 108 109 110 111 112 113 114 115 116 117 118 119 120 121 122\n",
      " 123 124 125 126 127 128 129 130 131 132 133] \n",
      " \n",
      "TEST: [ 68  69  70  71  72  73  74  75  76  77  78  79  80  81  82  83  84  85\n",
      "  86  87  88  89  90  91  92  93  94  95  96  97  98  99 100]\n",
      "confusion_matrix is :\n",
      " [[10  0]\n",
      " [ 0 23]]\n",
      "\n",
      "TRAIN:\n",
      " [  0   1   2   3   4   5   6   7   8   9  10  11  12  13  14  15  16  17\n",
      "  18  19  20  21  22  23  24  25  26  27  28  29  30  31  32  33  34  35\n",
      "  36  37  38  39  40  41  42  43  44  45  46  47  48  49  50  51  52  53\n",
      "  54  55  56  57  58  59  60  61  62  63  64  65  66  67  68  69  70  71\n",
      "  72  73  74  75  76  77  78  79  80  81  82  83  84  85  86  87  88  89\n",
      "  90  91  92  93  94  95  96  97  98  99 100] \n",
      " \n",
      "TEST: [101 102 103 104 105 106 107 108 109 110 111 112 113 114 115 116 117 118\n",
      " 119 120 121 122 123 124 125 126 127 128 129 130 131 132 133]\n",
      "confusion_matrix is :\n",
      " [[21  0]\n",
      " [ 0 12]]\n"
     ]
    }
   ],
   "source": [
    "kf = KFold(n_splits=4) # Define the split - into k folds\n",
    "for train_index, test_index in kf.split(data_c_features):\n",
    "    print(\"\\nTRAIN:\\n\", train_index,\"\\n\", \"\\nTEST:\", test_index)\n",
    "    # split\n",
    "    X_train, X_test = data_c_features[train_index], data_c_features[test_index]\n",
    "    y_train, y_test = data_c_label[train_index], data_c_label[test_index]\n",
    "\n",
    "    # since is two-class classification, we can get mean from log likelihhod estimation\n",
    "    X_train_label = data_crab[train_index]\n",
    "    X_test_label = data_crab[test_index]\n",
    "    # this is  the prior of class 1\n",
    "    \n",
    "    p_prior_1 =  X_train_label[ X_train_label[:,-1]==1.0 ].size/ X_train_label.shape[0]\n",
    "    # this is the prior of class 0\n",
    "    p_prior_0 =  X_train_label[ X_train_label[:,-1]==0.0 ].size/ X_train_label.shape[0]\n",
    "    \n",
    "    # num of data points?\n",
    "#     data_crab.shape[0]\n",
    "    mean1 = np.mean( X_train_label[X_train_label[:,-1] == 1.0][:,0:-1],axis=0)\n",
    "    mean0 = np.mean( X_train_label[X_train_label[:,-1] == 0.0][:,0:-1],axis=0)\n",
    "    \n",
    "    cov1 = np.cov( X_train_label[X_train_label[:,-1]==1.0][:,0:-1].T)\n",
    "    for i in range(7):\n",
    "        cov1[i][i]+=3e-8\n",
    "    cov0 = np.cov( X_train_label[X_train_label[:,-1]==0.0][:,0:-1].T)\n",
    "    for i in range(7):\n",
    "        cov0[i][i]+=3.5e-8\n",
    "    \n",
    "    y_hat = []\n",
    "    for i in range(X_test_label.shape[0]):\n",
    "        p_L_1 = multivariate_normal.pdf(X_test_label[i,0:-1],mean = mean1,cov=cov1)\n",
    "        p_L_0 = multivariate_normal.pdf(X_test_label[i,0:-1],mean = mean0,cov=cov0)\n",
    "        \n",
    "        # compute the posterior probability of each data point\n",
    "        p_pos_1 = p_L_1*p_prior_1/(p_L_1*p_prior_1+p_L_0*p_prior_0)\n",
    "        p_pos_0 = p_L_0*p_prior_0/(p_L_1*p_prior_1+p_L_0*p_prior_0)\n",
    "        \n",
    "        # decide\n",
    "        if p_pos_0 > p_pos_1:\n",
    "            y_hat.append(0.0)\n",
    "        else:\n",
    "            y_hat.append(1.0)\n",
    "     # compute condusion matrix   \n",
    "    confusion_mat = confusion_matrix(y_test,y_hat)\n",
    "#     fpr, tpr, thresholds = metrics.roc_curve(y_test, y_hat)\n",
    "    print(\"confusion_matrix is :\\n\",confusion_mat)\n",
    "            "
   ]
  },
  {
   "cell_type": "code",
   "execution_count": 165,
   "metadata": {},
   "outputs": [
    {
     "name": "stdout",
     "output_type": "stream",
     "text": [
      "mean1 is \n",
      " [13.86122449 11.82040816 29.54489796 34.09795918 12.35306122  0.44897959\n",
      "  0.55102041] \n",
      "\n",
      "covariance is :\n",
      " [[ 8.43534014  5.90018282 19.14323554 21.64700255  8.29230867  0.30943878\n",
      "  -0.30943878]\n",
      " [ 5.90018282  5.03665816 13.40885629 15.32712585  5.97201956 -0.15935374\n",
      "   0.15935374]\n",
      " [19.14323554 13.40885629 43.94919218 49.54217687 18.98673469  0.81067177\n",
      "  -0.81067177]\n",
      " [21.64700255 15.32712585 49.54217687 56.05603741 21.47281888  0.82593537\n",
      "  -0.82593537]\n",
      " [ 8.29230867  5.97201956 18.98673469 21.47281888  8.38087585  0.27359694\n",
      "  -0.27359694]\n",
      " [ 0.30943878 -0.15935374  0.81067177  0.82593537  0.27359694  0.25255102\n",
      "  -0.25255102]\n",
      " [-0.30943878  0.15935374 -0.81067177 -0.82593537 -0.27359694 -0.25255102\n",
      "   0.25255102]]\n",
      "9.96020929566324e-17\n",
      "9.980084817106136e-09\n"
     ]
    },
    {
     "data": {
      "text/plain": [
       "(7, 7)"
      ]
     },
     "execution_count": 165,
     "metadata": {},
     "output_type": "execute_result"
    }
   ],
   "source": [
    "cov1 = np.cov( X_train_label[X_train_label[:,-1]==1.0][:,0:-1].T)\n",
    "cov1.shape\n",
    "print(\"mean1 is \\n\",mean1,\"\\n\")\n",
    "print(\"covariance is :\\n\",cov1)\n",
    "# print(\"inverse of covariance:\",np.linalg.inv(cov1))\n",
    "# print(\"determinant of cov\",np.linalg.det(cov1))\n",
    "print(np.linalg.det(cov1)+1e-16)\n",
    "print((np.linalg.det(cov1)+1e-16)**0.5)\n",
    "cov1.shape"
   ]
  },
  {
   "cell_type": "code",
   "execution_count": 43,
   "metadata": {},
   "outputs": [
    {
     "data": {
      "text/plain": [
       "134"
      ]
     },
     "execution_count": 43,
     "metadata": {},
     "output_type": "execute_result"
    }
   ],
   "source": [
    "data_crab.shape[0]"
   ]
  },
  {
   "cell_type": "code",
   "execution_count": 117,
   "metadata": {},
   "outputs": [
    {
     "data": {
      "text/plain": [
       "array([[15. , 11.9, 32.5, 37.2, 13.6,  1. ,  0. ],\n",
       "       [18.2, 13.7, 38.8, 42.7, 17.2,  1. ,  0. ],\n",
       "       [18.9, 16.7, 36.3, 41.7, 15.3,  0. ,  1. ],\n",
       "       [12.9, 11. , 26.8, 30.9, 11.4,  1. ,  0. ],\n",
       "       [15.8, 15. , 34.5, 40.3, 15.3,  0. ,  1. ],\n",
       "       [12.6, 10. , 27.7, 31.7, 11.4,  1. ,  0. ],\n",
       "       [12.8, 10.9, 27.4, 31.5, 11. ,  1. ,  0. ],\n",
       "       [19.4, 14.1, 39.1, 43.2, 17.8,  1. ,  0. ],\n",
       "       [15.6, 13.9, 32.8, 37.9, 13.4,  0. ,  1. ],\n",
       "       [12.6, 11.5, 25. , 28.1, 11.5,  0. ,  1. ],\n",
       "       [12. , 10.7, 24.6, 28.9, 10.5,  0. ,  1. ],\n",
       "       [19.8, 14.2, 43.2, 49.7, 18.6,  1. ,  0. ],\n",
       "       [20.6, 14.4, 42.8, 46.5, 19.6,  1. ,  0. ],\n",
       "       [ 8.8,  7.7, 18.1, 20.8,  7.4,  1. ,  0. ],\n",
       "       [20.1, 17.2, 39.8, 44.1, 18.6,  0. ,  1. ],\n",
       "       [20. , 16.7, 40.4, 45.1, 17.7,  0. ,  1. ],\n",
       "       [11.4,  9.2, 21.7, 24.1,  9.7,  0. ,  1. ],\n",
       "       [10.4,  9.7, 21.7, 25.4,  8.3,  0. ,  1. ],\n",
       "       [17.7, 13.6, 38.7, 44.5, 16. ,  1. ,  0. ],\n",
       "       [16.2, 15.2, 34.5, 40.1, 13.9,  0. ,  1. ],\n",
       "       [15.1, 11.4, 30.2, 33.3, 14. ,  1. ,  0. ],\n",
       "       [11.5, 11. , 24.7, 29.2, 10.1,  0. ,  1. ],\n",
       "       [13.4, 10.1, 26.6, 29.6, 12. ,  1. ,  0. ],\n",
       "       [16.7, 16.1, 36.6, 41.9, 15.4,  0. ,  1. ],\n",
       "       [18.5, 14.6, 37. , 42. , 16.6,  0. ,  1. ],\n",
       "       [11.6, 11.4, 23.7, 27.7, 10. ,  0. ,  1. ],\n",
       "       [16.7, 14.3, 32.3, 37. , 14.7,  0. ,  1. ]])"
      ]
     },
     "execution_count": 117,
     "metadata": {},
     "output_type": "execute_result"
    }
   ],
   "source": [
    "X_test"
   ]
  },
  {
   "cell_type": "code",
   "execution_count": 51,
   "metadata": {},
   "outputs": [
    {
     "name": "stdout",
     "output_type": "stream",
     "text": [
      "[13.88823529 11.86029412 29.61617647 34.18529412 12.36323529  0.47058824\n",
      "  0.52941176  1.        ]\n"
     ]
    }
   ],
   "source": [
    "# mean1 of all features\n",
    "mean1 = np.mean(data_crab[data_c_label == 1.0],axis=0)\n",
    "print(mean1)"
   ]
  },
  {
   "cell_type": "code",
   "execution_count": 53,
   "metadata": {},
   "outputs": [
    {
     "data": {
      "text/plain": [
       "array([ 8.40250865,  4.88739403, 43.93753244, 56.16507785,  8.50173659,\n",
       "        0.24913495,  0.24913495,  0.        ])"
      ]
     },
     "execution_count": 53,
     "metadata": {},
     "output_type": "execute_result"
    }
   ],
   "source": [
    "var1 = np.var(data_crab[data_c_label == 1.0],axis=0)\n",
    "var2 = np.var(data_crab[data_c_label == 0.0],axis=0)\n",
    "var1"
   ]
  },
  {
   "cell_type": "code",
   "execution_count": 59,
   "metadata": {},
   "outputs": [
    {
     "data": {
      "text/plain": [
       "array([[204.36142857, 238.305     , 226.29095238, ..., 167.64880952,\n",
       "        241.78619048, 125.44809524],\n",
       "       [238.305     , 278.40333333, 263.80666667, ..., 195.12333333,\n",
       "        282.52166667, 146.18666667],\n",
       "       [226.29095238, 263.80666667, 252.86619048, ..., 187.0047619 ,\n",
       "        269.31190476, 139.09761905],\n",
       "       ...,\n",
       "       [167.64880952, 195.12333333, 187.0047619 , ..., 138.77571429,\n",
       "        199.02095238, 103.01714286],\n",
       "       [241.78619048, 282.52166667, 269.31190476, ..., 199.02095238,\n",
       "        288.01238095, 148.40452381],\n",
       "       [125.44809524, 146.18666667, 139.09761905, ..., 103.01714286,\n",
       "        148.40452381,  77.07142857]])"
      ]
     },
     "execution_count": 59,
     "metadata": {},
     "output_type": "execute_result"
    }
   ],
   "source": [
    "np.cov(data_c_features)"
   ]
  },
  {
   "cell_type": "code",
   "execution_count": 75,
   "metadata": {},
   "outputs": [
    {
     "data": {
      "text/plain": [
       "(68, 68)"
      ]
     },
     "execution_count": 75,
     "metadata": {},
     "output_type": "execute_result"
    }
   ],
   "source": [
    "cov1 = np.cov(data_crab[data_c_label==1.0][:,0:-1])\n",
    "cov1.shape"
   ]
  },
  {
   "cell_type": "code",
   "execution_count": 77,
   "metadata": {},
   "outputs": [
    {
     "data": {
      "text/plain": [
       "(68, 7)"
      ]
     },
     "execution_count": 77,
     "metadata": {},
     "output_type": "execute_result"
    }
   ],
   "source": [
    "data_crab[data_c_label==1.0][:,0:-1].shape"
   ]
  },
  {
   "cell_type": "code",
   "execution_count": 79,
   "metadata": {},
   "outputs": [
    {
     "ename": "ValueError",
     "evalue": "Dimension mismatch: array 'cov' is of shape (68, 68), but 'mean' is a vector of length 8.",
     "output_type": "error",
     "traceback": [
      "\u001b[1;31m---------------------------------------------------------------------------\u001b[0m",
      "\u001b[1;31mValueError\u001b[0m                                Traceback (most recent call last)",
      "\u001b[1;32m<ipython-input-79-fc9d62728bab>\u001b[0m in \u001b[0;36m<module>\u001b[1;34m\u001b[0m\n\u001b[1;32m----> 1\u001b[1;33m \u001b[0mp_L_1\u001b[0m \u001b[1;33m=\u001b[0m \u001b[0mmultivariate_normal\u001b[0m\u001b[1;33m.\u001b[0m\u001b[0mpdf\u001b[0m\u001b[1;33m(\u001b[0m\u001b[0mdata_c_features\u001b[0m\u001b[1;33m,\u001b[0m\u001b[0mmean\u001b[0m \u001b[1;33m=\u001b[0m \u001b[0mmean1\u001b[0m\u001b[1;33m,\u001b[0m\u001b[0mcov\u001b[0m\u001b[1;33m=\u001b[0m\u001b[0mcov1\u001b[0m\u001b[1;33m)\u001b[0m\u001b[1;33m\u001b[0m\u001b[1;33m\u001b[0m\u001b[0m\n\u001b[0m",
      "\u001b[1;32m~\\AppData\\Local\\Continuum\\anaconda3\\lib\\site-packages\\scipy\\stats\\_multivariate.py\u001b[0m in \u001b[0;36mpdf\u001b[1;34m(self, x, mean, cov, allow_singular)\u001b[0m\n\u001b[0;32m    517\u001b[0m \u001b[1;33m\u001b[0m\u001b[0m\n\u001b[0;32m    518\u001b[0m         \"\"\"\n\u001b[1;32m--> 519\u001b[1;33m         \u001b[0mdim\u001b[0m\u001b[1;33m,\u001b[0m \u001b[0mmean\u001b[0m\u001b[1;33m,\u001b[0m \u001b[0mcov\u001b[0m \u001b[1;33m=\u001b[0m \u001b[0mself\u001b[0m\u001b[1;33m.\u001b[0m\u001b[0m_process_parameters\u001b[0m\u001b[1;33m(\u001b[0m\u001b[1;32mNone\u001b[0m\u001b[1;33m,\u001b[0m \u001b[0mmean\u001b[0m\u001b[1;33m,\u001b[0m \u001b[0mcov\u001b[0m\u001b[1;33m)\u001b[0m\u001b[1;33m\u001b[0m\u001b[1;33m\u001b[0m\u001b[0m\n\u001b[0m\u001b[0;32m    520\u001b[0m         \u001b[0mx\u001b[0m \u001b[1;33m=\u001b[0m \u001b[0mself\u001b[0m\u001b[1;33m.\u001b[0m\u001b[0m_process_quantiles\u001b[0m\u001b[1;33m(\u001b[0m\u001b[0mx\u001b[0m\u001b[1;33m,\u001b[0m \u001b[0mdim\u001b[0m\u001b[1;33m)\u001b[0m\u001b[1;33m\u001b[0m\u001b[1;33m\u001b[0m\u001b[0m\n\u001b[0;32m    521\u001b[0m         \u001b[0mpsd\u001b[0m \u001b[1;33m=\u001b[0m \u001b[0m_PSD\u001b[0m\u001b[1;33m(\u001b[0m\u001b[0mcov\u001b[0m\u001b[1;33m,\u001b[0m \u001b[0mallow_singular\u001b[0m\u001b[1;33m=\u001b[0m\u001b[0mallow_singular\u001b[0m\u001b[1;33m)\u001b[0m\u001b[1;33m\u001b[0m\u001b[1;33m\u001b[0m\u001b[0m\n",
      "\u001b[1;32m~\\AppData\\Local\\Continuum\\anaconda3\\lib\\site-packages\\scipy\\stats\\_multivariate.py\u001b[0m in \u001b[0;36m_process_parameters\u001b[1;34m(self, dim, mean, cov)\u001b[0m\n\u001b[0;32m    419\u001b[0m                        \" but 'mean' is a vector of length %d.\")\n\u001b[0;32m    420\u001b[0m                 \u001b[0mmsg\u001b[0m \u001b[1;33m=\u001b[0m \u001b[0mmsg\u001b[0m \u001b[1;33m%\u001b[0m \u001b[1;33m(\u001b[0m\u001b[0mstr\u001b[0m\u001b[1;33m(\u001b[0m\u001b[0mcov\u001b[0m\u001b[1;33m.\u001b[0m\u001b[0mshape\u001b[0m\u001b[1;33m)\u001b[0m\u001b[1;33m,\u001b[0m \u001b[0mlen\u001b[0m\u001b[1;33m(\u001b[0m\u001b[0mmean\u001b[0m\u001b[1;33m)\u001b[0m\u001b[1;33m)\u001b[0m\u001b[1;33m\u001b[0m\u001b[1;33m\u001b[0m\u001b[0m\n\u001b[1;32m--> 421\u001b[1;33m             \u001b[1;32mraise\u001b[0m \u001b[0mValueError\u001b[0m\u001b[1;33m(\u001b[0m\u001b[0mmsg\u001b[0m\u001b[1;33m)\u001b[0m\u001b[1;33m\u001b[0m\u001b[1;33m\u001b[0m\u001b[0m\n\u001b[0m\u001b[0;32m    422\u001b[0m         \u001b[1;32melif\u001b[0m \u001b[0mcov\u001b[0m\u001b[1;33m.\u001b[0m\u001b[0mndim\u001b[0m \u001b[1;33m>\u001b[0m \u001b[1;36m2\u001b[0m\u001b[1;33m:\u001b[0m\u001b[1;33m\u001b[0m\u001b[1;33m\u001b[0m\u001b[0m\n\u001b[0;32m    423\u001b[0m             raise ValueError(\"Array 'cov' must be at most two-dimensional,\"\n",
      "\u001b[1;31mValueError\u001b[0m: Dimension mismatch: array 'cov' is of shape (68, 68), but 'mean' is a vector of length 8."
     ]
    }
   ],
   "source": [
    "p_L_1 = multivariate_normal.pdf(data_c_features,mean = mean1,cov=cov1)"
   ]
  },
  {
   "cell_type": "code",
   "execution_count": 81,
   "metadata": {},
   "outputs": [
    {
     "data": {
      "text/plain": [
       "(134, 7)"
      ]
     },
     "execution_count": 81,
     "metadata": {},
     "output_type": "execute_result"
    }
   ],
   "source": [
    "data_c_features.shape"
   ]
  },
  {
   "cell_type": "code",
   "execution_count": 92,
   "metadata": {},
   "outputs": [
    {
     "data": {
      "text/plain": [
       "array([[23.1, 15.7, 47.6, 52.8, 21.6,  1. ,  0. ,  0. ],\n",
       "       [13.1, 10.9, 28.3, 32.4, 11.2,  1. ,  0. ,  1. ],\n",
       "       [13.2, 11. , 27.1, 30.4, 12.2,  1. ,  0. ,  0. ],\n",
       "       [11.8,  9.6, 24.2, 27.8,  9.7,  1. ,  0. ,  1. ],\n",
       "       [11.6, 11. , 24.6, 28.5, 10.4,  0. ,  1. ,  1. ],\n",
       "       [19.3, 13.5, 41.6, 47.4, 17.8,  1. ,  0. ,  1. ],\n",
       "       [23.1, 20.2, 46.2, 52.5, 21.1,  0. ,  1. ,  0. ],\n",
       "       [14.2, 10.6, 28.7, 31.7, 12.9,  1. ,  0. ,  0. ],\n",
       "       [13.7, 11. , 27.5, 30.5, 12.2,  1. ,  0. ,  0. ],\n",
       "       [16.4, 13. , 35.7, 41.8, 15.2,  1. ,  0. ,  1. ],\n",
       "       [15. , 13.8, 31.7, 36.9, 14. ,  0. ,  1. ,  1. ],\n",
       "       [16.8, 12.8, 36.2, 41.8, 14.9,  1. ,  0. ,  1. ],\n",
       "       [ 8.1,  6.7, 16.1, 19. ,  7. ,  1. ,  0. ,  1. ],\n",
       "       [14.2, 11.3, 29.2, 32.2, 13.5,  1. ,  0. ,  0. ],\n",
       "       [14.1, 10.7, 28.7, 31.9, 13.3,  1. ,  0. ,  0. ],\n",
       "       [17.4, 16.9, 38.2, 44.1, 16.6,  0. ,  1. ,  1. ],\n",
       "       [15.2, 14.3, 33.9, 38.5, 14.7,  0. ,  1. ,  1. ],\n",
       "       [21.4, 18. , 41.2, 46.2, 18.7,  0. ,  1. ,  0. ],\n",
       "       [16.4, 14. , 34.2, 39.8, 15.2,  0. ,  1. ,  1. ],\n",
       "       [19.1, 16.3, 37.9, 42.6, 17.2,  0. ,  1. ,  0. ],\n",
       "       [16.2, 14. , 31.6, 35.6, 13.7,  0. ,  1. ,  0. ],\n",
       "       [18.4, 15.7, 36.5, 41.6, 16.4,  0. ,  1. ,  0. ],\n",
       "       [13.2, 12.2, 27.9, 32.1, 11.5,  0. ,  1. ,  1. ],\n",
       "       [12.5,  9.4, 24.2, 27. , 11.2,  1. ,  0. ,  0. ],\n",
       "       [17.6, 14. , 34. , 38.6, 15.5,  0. ,  1. ,  0. ],\n",
       "       [15.9, 12.7, 34. , 38.9, 14.2,  1. ,  0. ,  1. ],\n",
       "       [12.7, 10.4, 26. , 28.8, 12.1,  1. ,  0. ,  0. ],\n",
       "       [19.9, 16.6, 39.4, 43.9, 17.9,  0. ,  1. ,  0. ],\n",
       "       [14.3, 12.2, 28.1, 31.8, 12.5,  0. ,  1. ,  0. ],\n",
       "       [10.8,  9. , 23. , 26.5,  9.8,  1. ,  0. ,  1. ],\n",
       "       [18.4, 13.4, 37.9, 42.2, 17.7,  1. ,  0. ,  0. ],\n",
       "       [16.3, 12.7, 35.6, 40.9, 14.9,  1. ,  0. ,  1. ],\n",
       "       [20.6, 17.5, 41.5, 46.2, 19.2,  0. ,  1. ,  0. ],\n",
       "       [14.6, 11.3, 29.9, 33.5, 12.8,  1. ,  0. ,  0. ],\n",
       "       [15.5, 13.8, 33.4, 38.7, 14.7,  0. ,  1. ,  1. ],\n",
       "       [10.2,  8.2, 20.2, 22.2,  9. ,  1. ,  0. ,  0. ],\n",
       "       [14.2, 10.7, 27.8, 30.9, 12.7,  1. ,  0. ,  0. ],\n",
       "       [10.7,  8.6, 20.7, 22.7,  9.2,  1. ,  0. ,  0. ],\n",
       "       [13.7, 12.5, 28.6, 33.8, 11.9,  0. ,  1. ,  1. ],\n",
       "       [13.4, 11.8, 28.4, 32.7, 11.7,  0. ,  1. ,  1. ],\n",
       "       [21.7, 17.1, 41.7, 47.2, 19.6,  0. ,  1. ,  0. ],\n",
       "       [10.8,  9.5, 22.5, 26.3,  9.1,  0. ,  1. ,  1. ],\n",
       "       [11.8, 10.5, 25.2, 29.3, 10.3,  1. ,  0. ,  1. ],\n",
       "       [14. , 11.5, 29.2, 32.2, 13.1,  1. ,  0. ,  0. ],\n",
       "       [15.2, 12.1, 32.3, 36.7, 13.6,  1. ,  0. ,  1. ],\n",
       "       [14.7, 12.5, 30.1, 34.7, 12.5,  0. ,  1. ,  1. ],\n",
       "       [16.9, 13.2, 37.3, 42.7, 15.6,  1. ,  0. ,  1. ],\n",
       "       [15.6, 14.7, 33.9, 39.5, 14.3,  0. ,  1. ,  1. ],\n",
       "       [21. , 15. , 42.9, 47.2, 19.4,  1. ,  0. ,  0. ],\n",
       "       [15.1, 13.3, 31.8, 36.3, 13.5,  0. ,  1. ,  1. ],\n",
       "       [18. , 13.7, 39.2, 44.4, 16.2,  1. ,  0. ,  1. ],\n",
       "       [12.8, 12.2, 27.9, 31.9, 11.5,  0. ,  1. ,  1. ],\n",
       "       [ 9.2,  7.8, 19. , 22.4,  7.7,  1. ,  0. ,  1. ],\n",
       "       [17.1, 12.6, 36.4, 42. , 15.1,  1. ,  0. ,  1. ],\n",
       "       [15.6, 14.1, 31. , 34.5, 13.8,  0. ,  1. ,  0. ],\n",
       "       [19.3, 13.8, 40.9, 46.5, 16.8,  1. ,  0. ,  1. ],\n",
       "       [22.1, 15.8, 44.6, 49.6, 20.5,  1. ,  0. ,  0. ],\n",
       "       [14.3, 11.6, 31.3, 35.5, 12.7,  1. ,  0. ,  1. ],\n",
       "       [21.9, 15.7, 45.4, 51. , 21.1,  1. ,  0. ,  0. ],\n",
       "       [11.7, 10.6, 24.9, 28.5, 10.4,  0. ,  1. ,  1. ],\n",
       "       [10.3,  9.5, 21.3, 24.7,  8.9,  0. ,  1. ,  1. ],\n",
       "       [11.9, 11.4, 26. , 30.1, 10.9,  0. ,  1. ,  1. ],\n",
       "       [16.6, 13.5, 38.1, 43.4, 14.9,  1. ,  0. ,  1. ],\n",
       "       [10.1,  9.3, 20.9, 24.4,  8.4,  0. ,  1. ,  1. ],\n",
       "       [ 7.2,  6.5, 14.7, 17.1,  6.1,  0. ,  1. ,  1. ],\n",
       "       [15.4, 11.1, 30.2, 33.6, 13.5,  1. ,  0. ,  0. ],\n",
       "       [18. , 13.4, 36.7, 41.3, 17.1,  1. ,  0. ,  0. ],\n",
       "       [14.9, 13.2, 30.1, 35.6, 12. ,  0. ,  1. ,  1. ],\n",
       "       [16.1, 13.6, 31.6, 36. , 14. ,  0. ,  1. ,  0. ],\n",
       "       [15.6, 13.5, 31.2, 35.1, 14.1,  0. ,  1. ,  0. ],\n",
       "       [15.4, 11.8, 33. , 37.5, 13.6,  1. ,  0. ,  1. ],\n",
       "       [11. ,  9.8, 22.5, 25.7,  8.2,  0. ,  1. ,  1. ],\n",
       "       [11.4,  9. , 22.7, 24.8, 10.1,  1. ,  0. ,  0. ],\n",
       "       [12.8, 11.7, 27.1, 31.2, 11.9,  0. ,  1. ,  1. ],\n",
       "       [17.9, 12.9, 36.9, 40.9, 16.5,  1. ,  0. ,  0. ],\n",
       "       [10.7,  9.7, 21.4, 24. ,  9.8,  0. ,  1. ,  0. ],\n",
       "       [ 9.8,  8.9, 20.4, 23.9,  8.8,  0. ,  1. ,  1. ],\n",
       "       [17.4, 12.8, 36.1, 39.5, 16.2,  1. ,  0. ,  0. ],\n",
       "       [22.5, 17.2, 43. , 48.7, 19.8,  0. ,  1. ,  0. ],\n",
       "       [15. , 10.9, 31.4, 36.4, 13.2,  1. ,  0. ,  1. ],\n",
       "       [17.5, 14.7, 33.3, 37.6, 14.6,  0. ,  1. ,  0. ],\n",
       "       [19.4, 14.4, 39.8, 44.3, 17.9,  1. ,  0. ,  0. ],\n",
       "       [17.9, 14.1, 39.7, 44.6, 16.8,  1. ,  0. ,  1. ],\n",
       "       [18. , 16.3, 37.9, 43. , 17.2,  0. ,  1. ,  0. ],\n",
       "       [19.2, 16.5, 40.9, 47.9, 18.1,  0. ,  1. ,  1. ],\n",
       "       [19.1, 16. , 37.8, 42.3, 16.8,  0. ,  1. ,  0. ],\n",
       "       [11.2, 10. , 22.8, 26.9,  9.4,  0. ,  1. ,  1. ],\n",
       "       [18.4, 15.5, 35.6, 40. , 15.9,  0. ,  1. ,  0. ],\n",
       "       [14.9, 13. , 30. , 33.7, 13.3,  0. ,  1. ,  0. ],\n",
       "       [14.1, 10.5, 29.1, 31.6, 13.1,  1. ,  0. ,  0. ],\n",
       "       [11.1,  9.9, 23.8, 27.1,  9.8,  1. ,  0. ,  1. ],\n",
       "       [18.8, 13.4, 37.2, 41.1, 17.5,  1. ,  0. ,  0. ],\n",
       "       [16.2, 11.8, 32.3, 35.3, 14.7,  1. ,  0. ,  0. ],\n",
       "       [15. , 11.5, 32.4, 37. , 13.4,  1. ,  0. ,  1. ],\n",
       "       [12.8, 12.2, 26.7, 31.1, 11.1,  0. ,  1. ,  1. ],\n",
       "       [18. , 14.9, 34.7, 39.5, 15.7,  0. ,  1. ,  0. ],\n",
       "       [13.1, 10.6, 28.2, 32.3, 11. ,  1. ,  0. ,  1. ],\n",
       "       [14.7, 13.2, 29.6, 33.4, 12.9,  0. ,  1. ,  0. ],\n",
       "       [12.5, 10. , 24.1, 27. , 10.9,  0. ,  1. ,  0. ],\n",
       "       [21.9, 17.2, 42.6, 47.4, 19.5,  0. ,  1. ,  0. ],\n",
       "       [18.8, 13.8, 39.2, 43.3, 17.9,  1. ,  0. ,  0. ],\n",
       "       [15.1, 13.5, 31.9, 37. , 13.8,  0. ,  1. ,  1. ],\n",
       "       [17.5, 14.4, 34.5, 39. , 16. ,  0. ,  1. ,  0. ],\n",
       "       [18.6, 13.5, 36.9, 40.2, 17. ,  1. ,  0. ,  0. ],\n",
       "       [12.6, 12.2, 26.1, 31.6, 11.2,  0. ,  1. ,  1. ],\n",
       "       [19.7, 16.7, 39.9, 43.6, 18.2,  0. ,  1. ,  0. ],\n",
       "       [ 9.6,  7.9, 20.1, 23.1,  8.2,  1. ,  0. ,  1. ]])"
      ]
     },
     "execution_count": 92,
     "metadata": {},
     "output_type": "execute_result"
    }
   ],
   "source": [
    "data_crab[train_index]"
   ]
  },
  {
   "cell_type": "code",
   "execution_count": null,
   "metadata": {},
   "outputs": [],
   "source": []
  }
 ],
 "metadata": {
  "kernelspec": {
   "display_name": "Python 3",
   "language": "python",
   "name": "python3"
  },
  "language_info": {
   "codemirror_mode": {
    "name": "ipython",
    "version": 3
   },
   "file_extension": ".py",
   "mimetype": "text/x-python",
   "name": "python",
   "nbconvert_exporter": "python",
   "pygments_lexer": "ipython3",
   "version": "3.7.3"
  }
 },
 "nbformat": 4,
 "nbformat_minor": 2
}
