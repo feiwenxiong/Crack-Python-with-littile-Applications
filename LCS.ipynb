{
 "cells": [
  {
   "cell_type": "code",
   "execution_count": 6,
   "metadata": {},
   "outputs": [],
   "source": [
    "#Naive\n",
    "# using recursive tree will cause overlapping subproblems\n",
    "# the worst case is O(n^2)\n",
    "def LCS(x,y,i,j):\n",
    "    \"\"\"\"Meaning of the input parameters\n",
    "\n",
    "            x = x0 x1 x2 .... x(i-1)\n",
    "           y = y0 y1 y2 .... y(j-1)\n",
    "    \"\"\"\n",
    "    if i==0 or j==0:\n",
    "        \"\"\"One of the strings has 0 character      \n",
    "        => no match possible    \n",
    "        Longest common subsequence = 0 characters\n",
    "        \"\"\"\n",
    "        return \"\"\n",
    "    if (x[i-1]==y[i-1]):\n",
    "        return LCS(x,y,i-1,j-1)+1\n",
    "    else:\n",
    "        return (max(LCS(x,y,i-1,j),LCS(x,y,i,j-1)))\n",
    "    "
   ]
  },
  {
   "cell_type": "code",
   "execution_count": 7,
   "metadata": {},
   "outputs": [],
   "source": [
    "# tabulated implementation for the LCS problem.\n",
    "# time complexity : O(mn)\n",
    "\n",
    "def lcs_tab(X , Y): \n",
    "    # find the length of the strings \n",
    "    m = len(X) \n",
    "    n = len(Y) \n",
    "  \n",
    "    # space\n",
    "    c = [[None]*(n+1) for i in range(m+1)] \n",
    "  \n",
    "    \"\"\"Following steps build L[m+1][n+1] in bottom up fashion \n",
    "    Note: L[i][j] contains length of LCS of X[0..i-1] \n",
    "    and Y[0..j-1]\"\"\"\n",
    "    \n",
    "    # time complexity O(mn)\n",
    "    for i in range(m+1): \n",
    "        for j in range(n+1): \n",
    "            if i == 0 or j == 0 : \n",
    "                c[i][j] = 0\n",
    "            elif X[i-1] == Y[j-1]: \n",
    "                c[i][j] = c[i-1][j-1]+1\n",
    "            else: \n",
    "                c[i][j] = max(c[i-1][j] , c[i][j-1])\n",
    "    print(\"The c matix is ：\\n\",c) # let us see L\n",
    "    \n",
    "    ##print the LCS\n",
    "    i=m\n",
    "    j=n\n",
    "    lcs = \"\"\n",
    "    # backwards\n",
    "    while i>0 and j>0:\n",
    "        \n",
    "        if X[i-1]==Y[j-1]:\n",
    "            lcs = X[i-1]+lcs # concatenate the lcs\n",
    "            j-=1\n",
    "            i-=1\n",
    "            \n",
    "        elif c[i-1][j]<c[i][j-1]:\n",
    "            j-=1\n",
    "        else:\n",
    "            i-=1\n",
    "    print(\"\\nThe LCS is :\",lcs)       \n",
    "  \n",
    "    # L[m][n] contains the length of LCS of X[0..n-1] & Y[0..m-1] \n",
    "    return c[m][n] #c[m,n] means the length of LCS "
   ]
  },
  {
   "cell_type": "code",
   "execution_count": 18,
   "metadata": {},
   "outputs": [],
   "source": [
    "def lcs_space_opti(X, Y): \n",
    "      \n",
    "    # Find lengths of two strings \n",
    "   \n",
    "    m = len(X)  \n",
    "    n = len(Y) \n",
    "    n=min(m,n)\n",
    "    m=max(m,n)\n",
    "    \n",
    "# set the row \n",
    "    c = [[0 for i in range(n+1)] for j in range(2)] #np.zeros((2,n)\n",
    "# only need two row\n",
    "    currRow =0\n",
    "    lcs =\"\"\n",
    "    lcs_len=0\n",
    "    for i in range(m+1): \n",
    "        # Compute current binary index \n",
    "        for j in range(n+1): \n",
    "            if (i == 0 or j == 0): \n",
    "                c[currRow][j] = 0\n",
    "  \n",
    "            elif (X[i-1] == Y[j-1]): \n",
    "                c[currRow][j] = c[1-currRow][j-1] + 1\n",
    "                lcs_len=c[currRow][j]\n",
    "                lcs =X[i-1]+\"\"\n",
    "            else:\n",
    "                c[currRow][j]=max(c[1-currRow][j],c[currRow][j-1])\n",
    "                lcs_len = max(c[1-currRow][j],c[currRow][j-1])\n",
    "            \n",
    "        currRow =1-currRow\n",
    "        print(lcs,end=\"\")\n",
    "    return lcs_len\n"
   ]
  },
  {
   "cell_type": "code",
   "execution_count": 19,
   "metadata": {},
   "outputs": [
    {
     "name": "stdout",
     "output_type": "stream",
     "text": [
      "The c matix is ：\n",
      " [[0, 0, 0, 0, 0, 0, 0, 0, 0, 0, 0, 0, 0, 0, 0], [0, 0, 0, 1, 1, 1, 1, 1, 1, 1, 1, 1, 1, 1, 1], [0, 0, 1, 1, 2, 2, 2, 2, 2, 2, 2, 2, 2, 2, 2], [0, 1, 1, 1, 2, 3, 3, 3, 3, 3, 3, 3, 3, 3, 3], [0, 1, 2, 2, 2, 3, 3, 4, 4, 4, 4, 4, 4, 4, 4], [0, 1, 2, 3, 3, 3, 3, 4, 4, 5, 5, 5, 5, 5, 5], [0, 1, 2, 3, 4, 4, 4, 4, 4, 5, 5, 5, 5, 5, 5], [0, 1, 2, 3, 4, 5, 5, 5, 5, 5, 6, 6, 6, 6, 6], [0, 1, 2, 3, 4, 5, 5, 5, 5, 6, 6, 7, 7, 7, 7], [0, 1, 2, 3, 4, 5, 6, 6, 6, 6, 6, 7, 7, 7, 7], [0, 1, 2, 3, 4, 5, 6, 6, 6, 6, 6, 7, 8, 8, 8], [0, 1, 2, 3, 4, 5, 6, 6, 6, 7, 7, 7, 8, 9, 9], [0, 1, 2, 3, 4, 5, 6, 6, 6, 7, 7, 7, 8, 9, 9], [0, 1, 2, 3, 4, 5, 6, 6, 6, 7, 7, 8, 8, 9, 9], [0, 1, 2, 3, 4, 5, 6, 6, 6, 7, 7, 8, 8, 9, 9], [0, 1, 2, 3, 4, 5, 6, 6, 6, 7, 7, 8, 8, 9, 10], [0, 1, 2, 3, 4, 5, 6, 6, 6, 7, 7, 8, 8, 9, 10], [0, 1, 2, 3, 4, 5, 6, 6, 6, 7, 7, 8, 8, 9, 10], [0, 1, 2, 3, 4, 5, 6, 6, 6, 7, 7, 8, 8, 9, 10], [0, 1, 2, 3, 4, 5, 6, 6, 6, 7, 7, 8, 8, 9, 10], [0, 1, 2, 3, 4, 5, 6, 6, 6, 7, 7, 8, 8, 9, 10]]\n",
      "\n",
      "The LCS is : abcbacafad\n",
      "\n",
      "Length of LCS is \n",
      ": 10\n"
     ]
    }
   ],
   "source": [
    "X = \"abcbabcasfagaadsgasg\"\n",
    "Y = \"cbabcsbcacafad\"\n",
    "print (\"\\nLength of LCS is \\n:\", lcs_tab(X, Y))"
   ]
  },
  {
   "cell_type": "code",
   "execution_count": 20,
   "metadata": {},
   "outputs": [
    {
     "name": "stdout",
     "output_type": "stream",
     "text": [
      "abcbabcasfaaaadssass\n",
      "Length of LCS is :\n",
      " 10\n"
     ]
    }
   ],
   "source": [
    "print (\"\\nLength of LCS is :\\n\",lcs_space_opti(X, Y))"
   ]
  },
  {
   "cell_type": "code",
   "execution_count": null,
   "metadata": {},
   "outputs": [],
   "source": []
  },
  {
   "cell_type": "code",
   "execution_count": null,
   "metadata": {},
   "outputs": [],
   "source": []
  }
 ],
 "metadata": {
  "kernelspec": {
   "display_name": "Python 3",
   "language": "python",
   "name": "python3"
  },
  "language_info": {
   "codemirror_mode": {
    "name": "ipython",
    "version": 3
   },
   "file_extension": ".py",
   "mimetype": "text/x-python",
   "name": "python",
   "nbconvert_exporter": "python",
   "pygments_lexer": "ipython3",
   "version": "3.7.3"
  }
 },
 "nbformat": 4,
 "nbformat_minor": 2
}
